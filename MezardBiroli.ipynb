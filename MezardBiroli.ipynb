{
  "cells": [
    {
      "cell_type": "markdown",
      "metadata": {
        "id": "view-in-github",
        "colab_type": "text"
      },
      "source": [
        "<a href=\"https://colab.research.google.com/github/svaikunt/Dissipation_Field_theory/blob/master/MezardBiroli.ipynb\" target=\"_parent\"><img src=\"https://colab.research.google.com/assets/colab-badge.svg\" alt=\"Open In Colab\"/></a>"
      ]
    },
    {
      "cell_type": "code",
      "execution_count": null,
      "metadata": {
        "id": "Q2qfOsX6drZU"
      },
      "outputs": [],
      "source": [
        "import numpy as np\n",
        "import matplotlib\n",
        "import matplotlib.pyplot as plt"
      ]
    },
    {
      "cell_type": "code",
      "execution_count": null,
      "metadata": {
        "id": "H79WoeThd38F"
      },
      "outputs": [],
      "source": [
        "a = 1.0\n",
        "b = -2.0\n",
        "teq = 10000\n",
        "tsim = 1000\n",
        "T = 1.0\n",
        "dt = 0.01\n",
        "def generate_traj(a, b, teq, tsim, T, dt):\n",
        "    x = 0;\n",
        "    for t in range(teq):\n",
        "        force = -a*x**3 - b*x\n",
        "        x = x + force*dt + np.sqrt(2*T*dt)*np.random.randn()\n",
        "\n",
        "    traj = [];\n",
        "    for t in range(tsim):\n",
        "        force = -a*x**3 - b*x\n",
        "        x = x + force*dt + np.sqrt(2*T*dt)*np.random.randn()\n",
        "        traj.append(x)\n",
        "\n",
        "    return traj\n",
        "\n",
        "\n",
        "data = generate_traj(a, b, teq, tsim, T, dt)\n",
        "for n in range(19):\n",
        "    newtraj = generate_traj(a, b, teq, tsim, T, dt);\n",
        "    data.extend(newtraj)"
      ]
    },
    {
      "cell_type": "code",
      "execution_count": null,
      "metadata": {
        "colab": {
          "base_uri": "https://localhost:8080/"
        },
        "id": "glUQ9881d6X5",
        "outputId": "a5dd87d9-4788-46cc-c036-c194d752619a"
      },
      "outputs": [
        {
          "output_type": "execute_result",
          "data": {
            "text/plain": [
              "20000"
            ]
          },
          "metadata": {},
          "execution_count": 93
        }
      ],
      "source": [
        "len(data)"
      ]
    },
    {
      "cell_type": "code",
      "execution_count": null,
      "metadata": {
        "id": "wxEDA9Hhd8vC"
      },
      "outputs": [],
      "source": [
        "data = data[1:len(data):10]"
      ]
    },
    {
      "cell_type": "code",
      "execution_count": null,
      "metadata": {
        "colab": {
          "base_uri": "https://localhost:8080/"
        },
        "id": "TcHJcuN9d-h_",
        "outputId": "54c152d7-b17e-45cb-b616-240d7a85e2f5"
      },
      "outputs": [
        {
          "output_type": "execute_result",
          "data": {
            "text/plain": [
              "2000"
            ]
          },
          "metadata": {},
          "execution_count": 95
        }
      ],
      "source": [
        "len(data)"
      ]
    },
    {
      "cell_type": "code",
      "execution_count": null,
      "metadata": {
        "colab": {
          "base_uri": "https://localhost:8080/",
          "height": 673
        },
        "id": "UjGyIaT3eAR4",
        "outputId": "edcaea1f-2953-4fdc-9f92-ffdf7eaee755"
      },
      "outputs": [
        {
          "output_type": "execute_result",
          "data": {
            "text/plain": [
              "(array([  1.,   4.,  10.,  19.,  39.,  51.,  83., 102., 111., 107., 113.,\n",
              "         79.,  83.,  79.,  53.,  49.,  53.,  32.,  50.,  35.,  36.,  40.,\n",
              "         38.,  24.,  27.,  37.,  50.,  36.,  58.,  82.,  69.,  83.,  90.,\n",
              "         70.,  44.,  26.,  16.,  14.,   3.,   4.]),\n",
              " array([-2.65571666, -2.52553205, -2.39534744, -2.26516283, -2.13497822,\n",
              "        -2.00479361, -1.874609  , -1.74442439, -1.61423978, -1.48405517,\n",
              "        -1.35387056, -1.22368595, -1.09350134, -0.96331673, -0.83313212,\n",
              "        -0.70294751, -0.5727629 , -0.44257828, -0.31239367, -0.18220906,\n",
              "        -0.05202445,  0.07816016,  0.20834477,  0.33852938,  0.46871399,\n",
              "         0.5988986 ,  0.72908321,  0.85926782,  0.98945243,  1.11963704,\n",
              "         1.24982165,  1.38000626,  1.51019087,  1.64037548,  1.77056009,\n",
              "         1.9007447 ,  2.03092931,  2.16111392,  2.29129853,  2.42148314,\n",
              "         2.55166775]),\n",
              " <BarContainer object of 40 artists>)"
            ]
          },
          "metadata": {},
          "execution_count": 96
        },
        {
          "output_type": "display_data",
          "data": {
            "text/plain": [
              "<Figure size 640x480 with 1 Axes>"
            ],
            "image/png": "[encoded data removed]"
          },
          "metadata": {}
        }
      ],
      "source": [
        "plt.hist(data, bins = 40)"
      ]
    },
    {
      "cell_type": "code",
      "execution_count": null,
      "metadata": {
        "id": "s0GAb3uGeC6b"
      },
      "outputs": [],
      "source": [
        "# Define S_theta = Some function to approximate F in terms of parameters given in params\n",
        "\n",
        "#def activation(x, a, b, c, d):\n",
        "#    return c*np.tanh(a*np.tanh(x) + b) + d\n",
        "\n",
        "#def activation(x, a, b, c, d):\n",
        "#    return a*np.tanh(x) + b\n",
        "\n",
        "#def activation(x, params):\n",
        "#    a = params[0]\n",
        "#    b = params[1]\n",
        "#    c = params[2]\n",
        "#    d = params[3]\n",
        "#    return a*x**4 + b*x**3 + c*x**2 + d*x\n",
        "\n",
        "def activation(x, params):\n",
        "    a = params[0]\n",
        "    b = params[1]\n",
        "    c= params[2]\n",
        "    return a*x**3 + b*x+c\n",
        "\n",
        "#def activation(x, params):\n",
        "#    a = params[0]\n",
        "#    b = params[1]\n",
        "#    c = params[2]\n",
        "#    d = params[3]\n",
        "#    return c*np.tanh(a*np.tanh(x) + b) + d\n",
        "\n",
        "# This function calculates the loss function as a function of the parameters, x(t) and the initial data(a).\n",
        "def L_params_t(x, t, params, T, dt):\n",
        "    #meana = np.mean(x[:,0])\n",
        "    x_t = x[:,t+1]\n",
        "    x_0=x[:,0]\n",
        "    Delta_t = T*(1 - np.exp(-2*dt*(t+1)))\n",
        "    params_t = params[:,t]\n",
        "    diff = activation(x_t, params_t) + (1/Delta_t)*(x_t - x_0*np.exp(-t*dt))\n",
        "    return np.mean(diff*diff)\n",
        "\n",
        "# Function to run the forward diffusion process and generate trajectories\n",
        "def generate_noisy_trajs(a, tsteps, T, dt):\n",
        "    L = len(a)\n",
        "    x = np.zeros((L, tsteps+1))\n",
        "    x[:,0] = a\n",
        "    for t in range(tsteps):\n",
        "        x[:,t+1] = x[:,t] - x[:,t]*dt + np.sqrt(2*T*dt)*np.random.randn(L)\n",
        "    return x"
      ]
    },
    {
      "cell_type": "code",
      "execution_count": null,
      "metadata": {
        "id": "GnjpFRQLQH4i"
      },
      "outputs": [],
      "source": [
        "tsteps = 300\n",
        "T = 1.0;\n",
        "dt = 0.002\n",
        "a = data.copy()"
      ]
    },
    {
      "cell_type": "code",
      "execution_count": null,
      "metadata": {
        "id": "84kn8f3CQLws"
      },
      "outputs": [],
      "source": [
        "x = generate_noisy_trajs(a, tsteps, T, dt)"
      ]
    },
    {
      "cell_type": "code",
      "execution_count": null,
      "metadata": {
        "colab": {
          "base_uri": "https://localhost:8080/",
          "height": 569
        },
        "id": "_ddMdTyDQwsx",
        "outputId": "5deec9b2-3fad-4049-d101-0ec519f13940"
      },
      "outputs": [
        {
          "output_type": "execute_result",
          "data": {
            "text/plain": [
              "(array([  2.,   1.,   9.,  20.,  32.,  62., 111., 151., 201., 241., 269.,\n",
              "        205., 220., 152., 147.,  85.,  56.,  23.,  11.,   2.]),\n",
              " array([-3.87977032, -3.52637636, -3.17298241, -2.81958845, -2.4661945 ,\n",
              "        -2.11280055, -1.75940659, -1.40601264, -1.05261868, -0.69922473,\n",
              "        -0.34583077,  0.00756318,  0.36095714,  0.71435109,  1.06774505,\n",
              "         1.421139  ,  1.77453296,  2.12792691,  2.48132086,  2.83471482,\n",
              "         3.18810877]),\n",
              " <BarContainer object of 20 artists>)"
            ]
          },
          "metadata": {},
          "execution_count": 100
        },
        {
          "output_type": "display_data",
          "data": {
            "text/plain": [
              "<Figure size 640x480 with 1 Axes>"
            ],
            "image/png": "[encoded data removed]"
          },
          "metadata": {}
        }
      ],
      "source": [
        "plt.hist(x[:,tsteps], bins=20)"
      ]
    },
    {
      "cell_type": "code",
      "execution_count": null,
      "metadata": {
        "colab": {
          "base_uri": "https://localhost:8080/"
        },
        "id": "MuhnthRSln1H",
        "outputId": "55fed208-af79-4dbc-c8f4-a3f002f1c4f8"
      },
      "outputs": [
        {
          "output_type": "execute_result",
          "data": {
            "text/plain": [
              "1.1016508325539704"
            ]
          },
          "metadata": {},
          "execution_count": 101
        }
      ],
      "source": [
        "np.std(x[:,tsteps])"
      ]
    },
    {
      "cell_type": "code",
      "execution_count": null,
      "metadata": {
        "id": "iB4WXTuwRzHD"
      },
      "outputs": [],
      "source": [
        "def optimize_params_t_i(x, t, i, params, T, lr, dparam, dt):\n",
        "    Linit = L_params_t(x, t, params, T, dt)\n",
        "    params_new = params.copy()\n",
        "    params_new[:,t][i] = params_new[:,t][i] + dparam\n",
        "    Lfinal = L_params_t(x, t, params_new, T, dt)\n",
        "    params[:,t][i] = params[:,t][i] - ((Lfinal-Linit)/dparam)*lr\n",
        "    return params"
      ]
    },
    {
      "cell_type": "code",
      "execution_count": null,
      "metadata": {
        "id": "0how59BgR0DL"
      },
      "outputs": [],
      "source": [
        "params = np.zeros((3, tsteps))\n",
        "params[0,:]=-1.0;\n",
        "params[1,:]=2.0;\n",
        "toptsteps = 1000\n",
        "lr = 0.001\n",
        "dparam = 0.005"
      ]
    },
    {
      "cell_type": "code",
      "execution_count": null,
      "metadata": {
        "colab": {
          "base_uri": "https://localhost:8080/"
        },
        "id": "cfvDFOUkU4Na",
        "outputId": "b7ebbc87-33ef-4f7f-f35a-d3d8426dfc52"
      },
      "outputs": [
        {
          "output_type": "stream",
          "name": "stdout",
          "text": [
            "0\n",
            "1\n",
            "2\n",
            "3\n",
            "4\n",
            "5\n",
            "6\n",
            "7\n",
            "8\n",
            "9\n",
            "10\n",
            "11\n",
            "12\n",
            "13\n",
            "14\n",
            "15\n",
            "16\n",
            "17\n",
            "18\n",
            "19\n",
            "20\n",
            "21\n",
            "22\n",
            "23\n",
            "24\n",
            "25\n",
            "26\n",
            "27\n",
            "28\n",
            "29\n",
            "30\n",
            "31\n",
            "32\n",
            "33\n",
            "34\n",
            "35\n",
            "36\n",
            "37\n",
            "38\n",
            "39\n",
            "40\n",
            "41\n",
            "42\n",
            "43\n",
            "44\n",
            "45\n",
            "46\n",
            "47\n",
            "48\n",
            "49\n",
            "50\n",
            "51\n",
            "52\n",
            "53\n",
            "54\n",
            "55\n",
            "56\n",
            "57\n",
            "58\n",
            "59\n",
            "60\n",
            "61\n",
            "62\n",
            "63\n",
            "64\n",
            "65\n",
            "66\n",
            "67\n",
            "68\n",
            "69\n",
            "70\n",
            "71\n",
            "72\n",
            "73\n",
            "74\n",
            "75\n",
            "76\n",
            "77\n",
            "78\n",
            "79\n",
            "80\n",
            "81\n",
            "82\n",
            "83\n",
            "84\n",
            "85\n",
            "86\n",
            "87\n",
            "88\n",
            "89\n",
            "90\n",
            "91\n",
            "92\n",
            "93\n",
            "94\n",
            "95\n",
            "96\n",
            "97\n",
            "98\n",
            "99\n",
            "100\n",
            "101\n",
            "102\n",
            "103\n",
            "104\n",
            "105\n",
            "106\n",
            "107\n",
            "108\n",
            "109\n",
            "110\n",
            "111\n",
            "112\n",
            "113\n",
            "114\n",
            "115\n",
            "116\n",
            "117\n",
            "118\n",
            "119\n",
            "120\n",
            "121\n",
            "122\n",
            "123\n",
            "124\n",
            "125\n",
            "126\n",
            "127\n",
            "128\n",
            "129\n",
            "130\n",
            "131\n",
            "132\n",
            "133\n",
            "134\n",
            "135\n",
            "136\n",
            "137\n",
            "138\n",
            "139\n",
            "140\n",
            "141\n",
            "142\n",
            "143\n",
            "144\n",
            "145\n",
            "146\n",
            "147\n",
            "148\n",
            "149\n",
            "150\n",
            "151\n",
            "152\n",
            "153\n",
            "154\n",
            "155\n",
            "156\n",
            "157\n",
            "158\n",
            "159\n",
            "160\n",
            "161\n",
            "162\n",
            "163\n",
            "164\n",
            "165\n",
            "166\n",
            "167\n",
            "168\n",
            "169\n",
            "170\n",
            "171\n",
            "172\n",
            "173\n",
            "174\n",
            "175\n",
            "176\n",
            "177\n",
            "178\n",
            "179\n",
            "180\n",
            "181\n",
            "182\n",
            "183\n",
            "184\n",
            "185\n",
            "186\n",
            "187\n",
            "188\n",
            "189\n",
            "190\n",
            "191\n",
            "192\n",
            "193\n",
            "194\n",
            "195\n",
            "196\n",
            "197\n",
            "198\n",
            "199\n",
            "200\n",
            "201\n",
            "202\n",
            "203\n",
            "204\n",
            "205\n",
            "206\n",
            "207\n",
            "208\n",
            "209\n",
            "210\n",
            "211\n",
            "212\n",
            "213\n",
            "214\n",
            "215\n",
            "216\n",
            "217\n",
            "218\n",
            "219\n",
            "220\n",
            "221\n",
            "222\n",
            "223\n",
            "224\n",
            "225\n",
            "226\n",
            "227\n",
            "228\n",
            "229\n",
            "230\n",
            "231\n",
            "232\n",
            "233\n",
            "234\n",
            "235\n",
            "236\n",
            "237\n",
            "238\n",
            "239\n",
            "240\n",
            "241\n",
            "242\n",
            "243\n",
            "244\n",
            "245\n",
            "246\n",
            "247\n",
            "248\n",
            "249\n",
            "250\n",
            "251\n",
            "252\n",
            "253\n",
            "254\n",
            "255\n",
            "256\n",
            "257\n",
            "258\n",
            "259\n",
            "260\n",
            "261\n",
            "262\n",
            "263\n",
            "264\n",
            "265\n",
            "266\n",
            "267\n",
            "268\n",
            "269\n",
            "270\n",
            "271\n",
            "272\n",
            "273\n",
            "274\n",
            "275\n",
            "276\n",
            "277\n",
            "278\n",
            "279\n",
            "280\n",
            "281\n",
            "282\n",
            "283\n",
            "284\n",
            "285\n",
            "286\n",
            "287\n",
            "288\n",
            "289\n",
            "290\n",
            "291\n",
            "292\n",
            "293\n",
            "294\n",
            "295\n",
            "296\n",
            "297\n",
            "298\n",
            "299\n"
          ]
        }
      ],
      "source": [
        "for t in range(tsteps):\n",
        "    for _ in range(toptsteps):\n",
        "        for i in range(3):\n",
        "            params = optimize_params_t_i(x, t, i, params, T, lr, dparam, dt)\n",
        "    print(t)"
      ]
    },
    {
      "cell_type": "code",
      "execution_count": null,
      "metadata": {
        "colab": {
          "base_uri": "https://localhost:8080/",
          "height": 1000
        },
        "id": "J6fG2Ob0Vb07",
        "outputId": "2efca8f4-9fd3-4af9-f2c5-76c835959456"
      },
      "outputs": [
        {
          "output_type": "stream",
          "name": "stdout",
          "text": [
            "[-1.01866812 -0.98946099 -0.9191256  -0.87752746 -0.83221931 -0.85466146\n",
            " -0.85273334 -0.84020909 -0.83418113 -0.8049116  -0.80448553 -0.79495253\n",
            " -0.77874446 -0.76941218 -0.75955664 -0.75499252 -0.75045184 -0.73730825\n",
            " -0.73220904 -0.73008419 -0.71540492 -0.70348156 -0.69919563 -0.69279097\n",
            " -0.68841063 -0.69096238 -0.68357062 -0.68003692 -0.68037481 -0.66977492\n",
            " -0.66924589 -0.66261017 -0.66519539 -0.65227316 -0.65376494 -0.64672267\n",
            " -0.64195854 -0.63790384 -0.63503926 -0.62577005 -0.62615728 -0.61757172\n",
            " -0.61170106 -0.60245626 -0.59497432 -0.59357177 -0.58635941 -0.58801013\n",
            " -0.58109536 -0.57749298 -0.57187518 -0.56242972 -0.55440544 -0.54972588\n",
            " -0.54656416 -0.54519343 -0.53133213 -0.5290416  -0.53049183 -0.5343077\n",
            " -0.5339187  -0.53172778 -0.52539389 -0.5300347  -0.51932461 -0.51478622\n",
            " -0.5153806  -0.51033977 -0.50311121 -0.50211092 -0.49485679 -0.48956253\n",
            " -0.49241084 -0.4967811  -0.4956685  -0.48613309 -0.48943039 -0.4841135\n",
            " -0.48210628 -0.46911465 -0.4641749  -0.46163248 -0.45656461 -0.44839777\n",
            " -0.43515099 -0.42821515 -0.4221981  -0.41413571 -0.40991318 -0.40677711\n",
            " -0.41020826 -0.40450988 -0.39667903 -0.39646943 -0.3938996  -0.38860483\n",
            " -0.38346717 -0.38006528 -0.37471854 -0.35847354 -0.36434944 -0.3769006\n",
            " -0.37770696 -0.3693707  -0.37967807 -0.38203413 -0.37702012 -0.37380907\n",
            " -0.37885797 -0.37914739 -0.37944236 -0.37403338 -0.36854117 -0.37184546\n",
            " -0.37302783 -0.36537587 -0.358939   -0.36108133 -0.35394472 -0.35183547\n",
            " -0.34831849 -0.34900261 -0.34262381 -0.34583538 -0.339474   -0.3388995\n",
            " -0.34084665 -0.34442365 -0.34216849 -0.34223488 -0.34081073 -0.33954632\n",
            " -0.33708355 -0.32918545 -0.33028282 -0.33052161 -0.32571938 -0.32835052\n",
            " -0.3221111  -0.32255697 -0.31271294 -0.3073805  -0.30151614 -0.29471856\n",
            " -0.29504848 -0.29879984 -0.29649706 -0.29188214 -0.28756771 -0.29790871\n",
            " -0.29949956 -0.291874   -0.28134934 -0.28840148 -0.29094837 -0.28777904\n",
            " -0.29263155 -0.28868509 -0.29576804 -0.29267275 -0.29430233 -0.29257005\n",
            " -0.28944303 -0.28657113 -0.28904463 -0.28874179 -0.29277129 -0.28503574\n",
            " -0.28868412 -0.27896928 -0.26777766 -0.27869096 -0.28139471 -0.28389545\n",
            " -0.28037031 -0.28015531 -0.26882213 -0.26733757 -0.26139178 -0.25499804\n",
            " -0.25836126 -0.26226204 -0.26725686 -0.27580337 -0.27842106 -0.27947726\n",
            " -0.27150095 -0.26873884 -0.26989063 -0.27045111 -0.25611273 -0.26265435\n",
            " -0.25763831 -0.25928312 -0.2593288  -0.26259981 -0.26615947 -0.26539659\n",
            " -0.26624161 -0.2653823  -0.26419579 -0.25885055 -0.26741059 -0.26526296\n",
            " -0.25738245 -0.25113123 -0.25013658 -0.25190597 -0.26133659 -0.26556093\n",
            " -0.26214214 -0.25993313 -0.25588922 -0.25460557 -0.25471834 -0.25212715\n",
            " -0.25410847 -0.24423092 -0.2369845  -0.23482906 -0.23289797 -0.22755815\n",
            " -0.2334652  -0.23012903 -0.22940057 -0.22747866 -0.22718299 -0.22445746\n",
            " -0.22055011 -0.22450338 -0.22682496 -0.23593263 -0.23326806 -0.22932626\n",
            " -0.23129722 -0.23379666 -0.23617103 -0.23739509 -0.23429834 -0.23339155\n",
            " -0.23115918 -0.22700767 -0.22466702 -0.22831082 -0.2258062  -0.22888142\n",
            " -0.24233014 -0.24978752 -0.25138639 -0.25788014 -0.25016722 -0.24351006\n",
            " -0.24087756 -0.24299661 -0.24377778 -0.24316919 -0.2403993  -0.24082781\n",
            " -0.23831135 -0.23610841 -0.23341712 -0.2380418  -0.24648512 -0.24767909\n",
            " -0.24612854 -0.24449526 -0.2413816  -0.24093937 -0.24081354 -0.24572329\n",
            " -0.24333706 -0.25178272 -0.25169224 -0.24942568 -0.25363112 -0.26207761\n",
            " -0.2675711  -0.27244488 -0.27115171 -0.2757224  -0.26370295 -0.26843636\n",
            " -0.27655752 -0.27137849 -0.27486836 -0.27311021 -0.26519214 -0.26226765\n",
            " -0.2577898  -0.25722882 -0.25515923 -0.25734611 -0.26086578 -0.26200511\n",
            " -0.25892067 -0.25554546 -0.2491965  -0.2545088  -0.26180819 -0.26883065]\n",
            "[2.34091743 2.24261172 2.0298464  1.95154771 1.88655445 1.9007546\n",
            " 1.89360239 1.83174028 1.81489998 1.78953136 1.77768826 1.74173893\n",
            " 1.70802297 1.69988086 1.68257096 1.66580981 1.65670131 1.6277079\n",
            " 1.6101714  1.59748176 1.56699132 1.53249813 1.5080229  1.49468538\n",
            " 1.49367748 1.49534743 1.49477725 1.48202774 1.47841326 1.4520729\n",
            " 1.45761471 1.44749896 1.45498163 1.4284495  1.43467877 1.42279442\n",
            " 1.41380626 1.40598868 1.3911211  1.37456214 1.37781349 1.35896175\n",
            " 1.34949858 1.33240527 1.3198019  1.31211167 1.30030866 1.3028764\n",
            " 1.28887856 1.28285614 1.2743708  1.25140662 1.23295429 1.21529941\n",
            " 1.20663063 1.20316635 1.17243824 1.16772639 1.17109962 1.1831759\n",
            " 1.18460307 1.18160923 1.16909026 1.18071657 1.15317693 1.14458723\n",
            " 1.14387394 1.12569568 1.11078634 1.11243017 1.09461048 1.07783796\n",
            " 1.08045841 1.08816095 1.08757165 1.06621393 1.07625936 1.06261397\n",
            " 1.06292513 1.03404921 1.02308972 1.0237704  1.01313635 0.9902101\n",
            " 0.96335075 0.94612787 0.93286157 0.9147143  0.90463017 0.89264064\n",
            " 0.90074551 0.88551531 0.86608567 0.86336479 0.85840312 0.84523307\n",
            " 0.82954415 0.82111273 0.80738367 0.76177432 0.77932993 0.80832943\n",
            " 0.80939127 0.79249239 0.81460208 0.8198223  0.80882565 0.79772615\n",
            " 0.80889978 0.81317382 0.81558486 0.79991631 0.78462845 0.79067884\n",
            " 0.79468597 0.77796251 0.76233949 0.76613234 0.74993129 0.74354979\n",
            " 0.73638509 0.73940792 0.72513957 0.73442162 0.71634963 0.71444571\n",
            " 0.71788042 0.72833248 0.72112273 0.72028941 0.71952811 0.7186964\n",
            " 0.71254422 0.69024624 0.69188696 0.69470812 0.68307556 0.69228194\n",
            " 0.67400247 0.67259565 0.64730061 0.63024834 0.61319169 0.59120778\n",
            " 0.58831432 0.59887692 0.59055795 0.57723762 0.56506012 0.5948633\n",
            " 0.60059301 0.58188082 0.55005729 0.56900873 0.57430578 0.56484863\n",
            " 0.57810304 0.56919699 0.59211321 0.58056091 0.58422366 0.57686359\n",
            " 0.56858741 0.55701545 0.56278025 0.56115027 0.5739821  0.54933903\n",
            " 0.55871853 0.53392121 0.50416541 0.53448743 0.5446795  0.54718371\n",
            " 0.53585012 0.54004381 0.50389549 0.50073012 0.48560724 0.46497049\n",
            " 0.47803586 0.49211014 0.50526137 0.52989927 0.53481912 0.5347069\n",
            " 0.50952234 0.50101911 0.5018404  0.50195123 0.46273089 0.48249699\n",
            " 0.46974617 0.47374268 0.47341044 0.48256913 0.49266132 0.49024385\n",
            " 0.4922806  0.49005947 0.48457303 0.47034502 0.49054085 0.48390167\n",
            " 0.46734518 0.44567639 0.4434666  0.44491605 0.47022718 0.48055043\n",
            " 0.47179667 0.46431212 0.45184076 0.45069824 0.4530177  0.44584239\n",
            " 0.44890386 0.42333134 0.4025418  0.40287976 0.39689488 0.38114997\n",
            " 0.39787047 0.38470781 0.38183123 0.3774461  0.37514175 0.36507992\n",
            " 0.35537783 0.36903392 0.37947892 0.40235426 0.39609526 0.38150156\n",
            " 0.38902324 0.39663825 0.40433591 0.40930614 0.40152564 0.39998597\n",
            " 0.39214477 0.38034098 0.37447483 0.39046464 0.38136362 0.39115797\n",
            " 0.42993221 0.45548122 0.46344066 0.47912192 0.45991406 0.44046535\n",
            " 0.4329225  0.4417595  0.44088911 0.4404715  0.42775795 0.42733728\n",
            " 0.41714114 0.41021554 0.405544   0.4180829  0.43981382 0.4418484\n",
            " 0.4348938  0.43130217 0.42305589 0.42461496 0.42254488 0.43648059\n",
            " 0.43001441 0.45591718 0.4564782  0.45361147 0.46320787 0.48637382\n",
            " 0.50181664 0.50992275 0.50685237 0.51785494 0.48199488 0.49687508\n",
            " 0.51742456 0.50505609 0.51463534 0.50824332 0.48779704 0.47900512\n",
            " 0.46281429 0.46115119 0.45599772 0.45984119 0.47434597 0.47854751\n",
            " 0.46712572 0.46029968 0.4418785  0.45912058 0.47887276 0.4973209 ]\n",
            "-0.6245733403390601\n"
          ]
        },
        {
          "output_type": "display_data",
          "data": {
            "text/plain": [
              "<Figure size 640x480 with 1 Axes>"
            ],
            "image/png": "[encoded data removed]"
          },
          "metadata": {}
        }
      ],
      "source": [
        "plt.hist(params[0,:])\n",
        "plt.hist(params[1,:])\n",
        "print(params[0,:])\n",
        "print(params[1,:])\n",
        "print(params[2,0])"
      ]
    },
    {
      "cell_type": "code",
      "execution_count": null,
      "metadata": {
        "id": "CiP7EhsVVePc"
      },
      "outputs": [],
      "source": [
        "def generate_reverse_trajs(tsteps, params, T, dt, ntrajs):\n",
        "    params_r = np.fliplr(params)\n",
        "    y = np.zeros((ntrajs, tsteps+1))\n",
        "    y[:,0] = np.random.randn(ntrajs)\n",
        "    for t in range(tsteps):\n",
        "        params_t = params_r[:, t]\n",
        "        #params_t = params[:, t]\n",
        "        y[:,t+1] = y[:,t] - y[:,t]*dt  +2*T*activation(y[:,t], params_t)*dt -np.sqrt(2*T*dt)*np.random.randn(ntrajs)\n",
        "    return y"
      ]
    },
    {
      "cell_type": "code",
      "execution_count": null,
      "metadata": {
        "id": "fdwYInQep-IQ"
      },
      "outputs": [],
      "source": [
        "y = generate_reverse_trajs(tsteps, params, T, dt, 2000)"
      ]
    },
    {
      "cell_type": "code",
      "execution_count": null,
      "metadata": {
        "id": "nsUV4P9PqB8w",
        "colab": {
          "base_uri": "https://localhost:8080/"
        },
        "outputId": "919cd44e-b0d0-4620-b5c1-d7d600438690"
      },
      "outputs": [
        {
          "output_type": "stream",
          "name": "stdout",
          "text": [
            "[[-0.58109162 -0.49822105 -0.49218371 ... -0.63785192 -0.69451793\n",
            "  -0.6299052 ]\n",
            " [ 2.00396004  1.97561362  1.9274678  ...  1.02196729  1.01017133\n",
            "   1.04141401]\n",
            " [-0.09287394 -0.07776031 -0.18569587 ... -0.62995375 -0.63220913\n",
            "  -0.60294835]\n",
            " ...\n",
            " [ 0.11182674  0.09745384  0.07259887 ...  1.00531643  1.0724209\n",
            "   1.01101142]\n",
            " [ 0.13004884  0.20742487  0.19852246 ...  0.9184011   0.98555379\n",
            "   1.04266383]\n",
            " [ 0.42537626  0.37189466  0.37551471 ...  1.05315201  1.06898301\n",
            "   1.13674396]]\n"
          ]
        }
      ],
      "source": [
        "idxs = np.where(np.abs(y[:,tsteps])<10)\n",
        "z = y[:, tsteps][idxs]\n",
        "print(y)"
      ]
    },
    {
      "cell_type": "code",
      "execution_count": null,
      "metadata": {
        "colab": {
          "base_uri": "https://localhost:8080/",
          "height": 569
        },
        "id": "CbUPgYh0r8dT",
        "outputId": "6efa6032-2518-46ff-c1fc-0dfa04c2e245"
      },
      "outputs": [
        {
          "output_type": "execute_result",
          "data": {
            "text/plain": [
              "(array([  3.,  23.,  71., 105., 133., 168., 136., 126., 120., 137., 122.,\n",
              "        130., 142., 137., 148., 122., 107.,  53.,  14.,   3.]),\n",
              " array([-2.35239487, -2.1192615 , -1.88612813, -1.65299475, -1.41986138,\n",
              "        -1.18672801, -0.95359464, -0.72046127, -0.4873279 , -0.25419453,\n",
              "        -0.02106115,  0.21207222,  0.44520559,  0.67833896,  0.91147233,\n",
              "         1.1446057 ,  1.37773908,  1.61087245,  1.84400582,  2.07713919,\n",
              "         2.31027256]),\n",
              " <BarContainer object of 20 artists>)"
            ]
          },
          "metadata": {},
          "execution_count": 130
        },
        {
          "output_type": "display_data",
          "data": {
            "text/plain": [
              "<Figure size 640x480 with 1 Axes>"
            ],
            "image/png": "[encoded data removed]"
          },
          "metadata": {}
        }
      ],
      "source": [
        "plt.hist(y[:,300], bins=20)"
      ]
    },
    {
      "cell_type": "code",
      "source": [
        "def brute_force_optim(x, t, params, T, dt):\n",
        "    xt = x[:,t+1]\n",
        "    x0 = x[:,0]\n",
        "    Delta_t = T*(1 - np.exp(-2*(t+1)*dt))\n",
        "    T0 = len(xt)\n",
        "    T1 = np.sum(xt)\n",
        "    T3 = np.sum(xt**3)\n",
        "    T2 = np.sum(xt**2)\n",
        "    T4 = np.sum(xt**4)\n",
        "    T6 = np.sum(xt**6)\n",
        "    TA = (1/Delta_t)*np.sum((xt - x0*np.exp(-(t+1)*dt))*(xt**3))\n",
        "    TB = (1/Delta_t)*np.sum((xt - x0*np.exp(-(t+1)*dt))*xt)\n",
        "    TC = (1/Delta_t)*np.sum(xt - x0*np.exp(-(t+1)*dt))\n",
        "    A = np.array([[T6, T4, T3], [T4, T2, T1], [T3, T1, T0]])\n",
        "    b = -np.array([TA, TB, TC])\n",
        "    params[:,t] = np.linalg.solve(A,b)\n",
        "    return params"
      ],
      "metadata": {
        "id": "ycrfzX-B_r1R"
      },
      "execution_count": null,
      "outputs": []
    },
    {
      "cell_type": "code",
      "source": [
        "params_new = np.zeros((3, tsteps))\n",
        "for t in range(tsteps):\n",
        "    params_new = brute_force_optim(x, t, params_new, T, dt)\n",
        "    #print(t)"
      ],
      "metadata": {
        "id": "YFP5JCaxC-Jw"
      },
      "execution_count": null,
      "outputs": []
    },
    {
      "cell_type": "code",
      "source": [
        "def activation(x, params):\n",
        "    a = params[0]\n",
        "    b = params[1]\n",
        "    c = params[2]\n",
        "    return a*x**3 + b*x + c\n",
        "y_new = generate_reverse_trajs(tsteps, params_new, T, dt, 10000)"
      ],
      "metadata": {
        "id": "EJqOz6miDXRI"
      },
      "execution_count": null,
      "outputs": []
    },
    {
      "cell_type": "code",
      "source": [
        "idxs = np.where(np.abs(y_new[:,tsteps])<10)\n",
        "z_new = y_new[:, tsteps][idxs]\n",
        "plt.hist(z_new, bins=40)"
      ],
      "metadata": {
        "colab": {
          "base_uri": "https://localhost:8080/",
          "height": 673
        },
        "id": "UVY5rz_oDad-",
        "outputId": "8e95691c-ad8c-424a-ec42-12b91015a7b8"
      },
      "execution_count": null,
      "outputs": [
        {
          "output_type": "execute_result",
          "data": {
            "text/plain": [
              "(array([  5.,  12.,  26.,  50., 106., 113., 196., 242., 283., 345., 357.,\n",
              "        351., 382., 423., 419., 433., 419., 456., 409., 447., 413., 445.,\n",
              "        429., 416., 372., 375., 382., 331., 279., 260., 233., 179., 135.,\n",
              "        112.,  86.,  41.,  23.,   8.,   5.,   2.]),\n",
              " array([-2.24084825, -2.129279  , -2.01770974, -1.90614048, -1.79457122,\n",
              "        -1.68300196, -1.5714327 , -1.45986344, -1.34829418, -1.23672493,\n",
              "        -1.12515567, -1.01358641, -0.90201715, -0.79044789, -0.67887863,\n",
              "        -0.56730937, -0.45574011, -0.34417086, -0.2326016 , -0.12103234,\n",
              "        -0.00946308,  0.10210618,  0.21367544,  0.3252447 ,  0.43681396,\n",
              "         0.54838321,  0.65995247,  0.77152173,  0.88309099,  0.99466025,\n",
              "         1.10622951,  1.21779877,  1.32936802,  1.44093728,  1.55250654,\n",
              "         1.6640758 ,  1.77564506,  1.88721432,  1.99878358,  2.11035284,\n",
              "         2.22192209]),\n",
              " <BarContainer object of 40 artists>)"
            ]
          },
          "metadata": {},
          "execution_count": 141
        },
        {
          "output_type": "display_data",
          "data": {
            "text/plain": [
              "<Figure size 640x480 with 1 Axes>"
            ],
            "image/png": "[encoded data removed]"
          },
          "metadata": {}
        }
      ]
    },
    {
      "cell_type": "code",
      "source": [
        "plt.hist(params_new[0,:])\n",
        "plt.hist(params_new[1,:])\n",
        "plt.hist(params_new[2,:])"
      ],
      "metadata": {
        "colab": {
          "base_uri": "https://localhost:8080/",
          "height": 517
        },
        "id": "pIjsGGA-D49p",
        "outputId": "9db56570-a9d3-4437-d47f-32f4304faba6"
      },
      "execution_count": null,
      "outputs": [
        {
          "output_type": "execute_result",
          "data": {
            "text/plain": [
              "(array([128., 162.,   5.,   3.,   0.,   1.,   0.,   0.,   0.,   1.]),\n",
              " array([0.07922121, 0.14118569, 0.20315018, 0.26511466, 0.32707915,\n",
              "        0.38904363, 0.45100812, 0.5129726 , 0.57493709, 0.63690157,\n",
              "        0.69886606]),\n",
              " <BarContainer object of 10 artists>)"
            ]
          },
          "metadata": {},
          "execution_count": 137
        },
        {
          "output_type": "display_data",
          "data": {
            "text/plain": [
              "<Figure size 640x480 with 1 Axes>"
            ],
            "image/png": "[encoded data removed]"
          },
          "metadata": {}
        }
      ]
    },
    {
      "cell_type": "code",
      "source": [],
      "metadata": {
        "id": "YTPvICN8EPz_"
      },
      "execution_count": null,
      "outputs": []
    }
  ],
  "metadata": {
    "colab": {
      "provenance": [],
      "include_colab_link": true
    },
    "kernelspec": {
      "display_name": "Python 3",
      "name": "python3"
    },
    "language_info": {
      "name": "python"
    }
  },
  "nbformat": 4,
  "nbformat_minor": 0
}